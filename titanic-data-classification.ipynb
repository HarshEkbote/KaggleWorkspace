{
 "cells": [
  {
   "cell_type": "code",
   "execution_count": 1,
   "id": "0cad1ae8",
   "metadata": {
    "_cell_guid": "b1076dfc-b9ad-4769-8c92-a6c4dae69d19",
    "_uuid": "8f2839f25d086af736a60e9eeb907d3b93b6e0e5",
    "execution": {
     "iopub.execute_input": "2023-02-28T12:01:12.956307Z",
     "iopub.status.busy": "2023-02-28T12:01:12.955404Z",
     "iopub.status.idle": "2023-02-28T12:01:12.975223Z",
     "shell.execute_reply": "2023-02-28T12:01:12.974036Z"
    },
    "papermill": {
     "duration": 0.038302,
     "end_time": "2023-02-28T12:01:12.978249",
     "exception": false,
     "start_time": "2023-02-28T12:01:12.939947",
     "status": "completed"
    },
    "tags": []
   },
   "outputs": [
    {
     "name": "stdout",
     "output_type": "stream",
     "text": [
      "/kaggle/input/titanic/train.csv\n",
      "/kaggle/input/titanic/test.csv\n",
      "/kaggle/input/titanic/gender_submission.csv\n"
     ]
    }
   ],
   "source": [
    "# This Python 3 environment comes with many helpful analytics libraries installed\n",
    "# It is defined by the kaggle/python Docker image: https://github.com/kaggle/docker-python\n",
    "# For example, here's several helpful packages to load\n",
    "\n",
    "import numpy as np # linear algebra\n",
    "import pandas as pd # data processing, CSV file I/O (e.g. pd.read_csv)\n",
    "\n",
    "# Input data files are available in the read-only \"../input/\" directory\n",
    "# For example, running this (by clicking run or pressing Shift+Enter) will list all files under the input directory\n",
    "\n",
    "import os\n",
    "for dirname, _, filenames in os.walk('/kaggle/input'):\n",
    "    for filename in filenames:\n",
    "        print(os.path.join(dirname, filename))\n",
    "\n",
    "# You can write up to 20GB to the current directory (/kaggle/working/) that gets preserved as output when you create a version using \"Save & Run All\" \n",
    "# You can also write temporary files to /kaggle/temp/, but they won't be saved outside of the current session"
   ]
  },
  {
   "cell_type": "markdown",
   "id": "ddf66e6f",
   "metadata": {
    "papermill": {
     "duration": 0.01208,
     "end_time": "2023-02-28T12:01:13.003477",
     "exception": false,
     "start_time": "2023-02-28T12:01:12.991397",
     "status": "completed"
    },
    "tags": []
   },
   "source": [
    "**Importing the necessary Library and DataSets**"
   ]
  },
  {
   "cell_type": "code",
   "execution_count": 2,
   "id": "1a33e3a2",
   "metadata": {
    "execution": {
     "iopub.execute_input": "2023-02-28T12:01:13.030314Z",
     "iopub.status.busy": "2023-02-28T12:01:13.029892Z",
     "iopub.status.idle": "2023-02-28T12:01:14.276048Z",
     "shell.execute_reply": "2023-02-28T12:01:14.274861Z"
    },
    "papermill": {
     "duration": 1.26317,
     "end_time": "2023-02-28T12:01:14.278986",
     "exception": false,
     "start_time": "2023-02-28T12:01:13.015816",
     "status": "completed"
    },
    "tags": []
   },
   "outputs": [],
   "source": [
    "import pandas as pd\n",
    "import numpy as np\n",
    "import matplotlib.pyplot as plt\n",
    "import seaborn as sns"
   ]
  },
  {
   "cell_type": "markdown",
   "id": "853f319f",
   "metadata": {
    "papermill": {
     "duration": 0.011972,
     "end_time": "2023-02-28T12:01:14.304740",
     "exception": false,
     "start_time": "2023-02-28T12:01:14.292768",
     "status": "completed"
    },
    "tags": []
   },
   "source": [
    "Import the Train Set"
   ]
  },
  {
   "cell_type": "code",
   "execution_count": 3,
   "id": "daf29e3c",
   "metadata": {
    "execution": {
     "iopub.execute_input": "2023-02-28T12:01:14.331819Z",
     "iopub.status.busy": "2023-02-28T12:01:14.330955Z",
     "iopub.status.idle": "2023-02-28T12:01:14.380602Z",
     "shell.execute_reply": "2023-02-28T12:01:14.379347Z"
    },
    "papermill": {
     "duration": 0.066077,
     "end_time": "2023-02-28T12:01:14.383179",
     "exception": false,
     "start_time": "2023-02-28T12:01:14.317102",
     "status": "completed"
    },
    "tags": []
   },
   "outputs": [
    {
     "data": {
      "text/html": [
       "<div>\n",
       "<style scoped>\n",
       "    .dataframe tbody tr th:only-of-type {\n",
       "        vertical-align: middle;\n",
       "    }\n",
       "\n",
       "    .dataframe tbody tr th {\n",
       "        vertical-align: top;\n",
       "    }\n",
       "\n",
       "    .dataframe thead th {\n",
       "        text-align: right;\n",
       "    }\n",
       "</style>\n",
       "<table border=\"1\" class=\"dataframe\">\n",
       "  <thead>\n",
       "    <tr style=\"text-align: right;\">\n",
       "      <th></th>\n",
       "      <th>PassengerId</th>\n",
       "      <th>Survived</th>\n",
       "      <th>Pclass</th>\n",
       "      <th>Name</th>\n",
       "      <th>Sex</th>\n",
       "      <th>Age</th>\n",
       "      <th>SibSp</th>\n",
       "      <th>Parch</th>\n",
       "      <th>Ticket</th>\n",
       "      <th>Fare</th>\n",
       "      <th>Cabin</th>\n",
       "      <th>Embarked</th>\n",
       "    </tr>\n",
       "  </thead>\n",
       "  <tbody>\n",
       "    <tr>\n",
       "      <th>0</th>\n",
       "      <td>1</td>\n",
       "      <td>0</td>\n",
       "      <td>3</td>\n",
       "      <td>Braund, Mr. Owen Harris</td>\n",
       "      <td>male</td>\n",
       "      <td>22.0</td>\n",
       "      <td>1</td>\n",
       "      <td>0</td>\n",
       "      <td>A/5 21171</td>\n",
       "      <td>7.2500</td>\n",
       "      <td>NaN</td>\n",
       "      <td>S</td>\n",
       "    </tr>\n",
       "    <tr>\n",
       "      <th>1</th>\n",
       "      <td>2</td>\n",
       "      <td>1</td>\n",
       "      <td>1</td>\n",
       "      <td>Cumings, Mrs. John Bradley (Florence Briggs Th...</td>\n",
       "      <td>female</td>\n",
       "      <td>38.0</td>\n",
       "      <td>1</td>\n",
       "      <td>0</td>\n",
       "      <td>PC 17599</td>\n",
       "      <td>71.2833</td>\n",
       "      <td>C85</td>\n",
       "      <td>C</td>\n",
       "    </tr>\n",
       "    <tr>\n",
       "      <th>2</th>\n",
       "      <td>3</td>\n",
       "      <td>1</td>\n",
       "      <td>3</td>\n",
       "      <td>Heikkinen, Miss. Laina</td>\n",
       "      <td>female</td>\n",
       "      <td>26.0</td>\n",
       "      <td>0</td>\n",
       "      <td>0</td>\n",
       "      <td>STON/O2. 3101282</td>\n",
       "      <td>7.9250</td>\n",
       "      <td>NaN</td>\n",
       "      <td>S</td>\n",
       "    </tr>\n",
       "    <tr>\n",
       "      <th>3</th>\n",
       "      <td>4</td>\n",
       "      <td>1</td>\n",
       "      <td>1</td>\n",
       "      <td>Futrelle, Mrs. Jacques Heath (Lily May Peel)</td>\n",
       "      <td>female</td>\n",
       "      <td>35.0</td>\n",
       "      <td>1</td>\n",
       "      <td>0</td>\n",
       "      <td>113803</td>\n",
       "      <td>53.1000</td>\n",
       "      <td>C123</td>\n",
       "      <td>S</td>\n",
       "    </tr>\n",
       "    <tr>\n",
       "      <th>4</th>\n",
       "      <td>5</td>\n",
       "      <td>0</td>\n",
       "      <td>3</td>\n",
       "      <td>Allen, Mr. William Henry</td>\n",
       "      <td>male</td>\n",
       "      <td>35.0</td>\n",
       "      <td>0</td>\n",
       "      <td>0</td>\n",
       "      <td>373450</td>\n",
       "      <td>8.0500</td>\n",
       "      <td>NaN</td>\n",
       "      <td>S</td>\n",
       "    </tr>\n",
       "  </tbody>\n",
       "</table>\n",
       "</div>"
      ],
      "text/plain": [
       "   PassengerId  Survived  Pclass  \\\n",
       "0            1         0       3   \n",
       "1            2         1       1   \n",
       "2            3         1       3   \n",
       "3            4         1       1   \n",
       "4            5         0       3   \n",
       "\n",
       "                                                Name     Sex   Age  SibSp  \\\n",
       "0                            Braund, Mr. Owen Harris    male  22.0      1   \n",
       "1  Cumings, Mrs. John Bradley (Florence Briggs Th...  female  38.0      1   \n",
       "2                             Heikkinen, Miss. Laina  female  26.0      0   \n",
       "3       Futrelle, Mrs. Jacques Heath (Lily May Peel)  female  35.0      1   \n",
       "4                           Allen, Mr. William Henry    male  35.0      0   \n",
       "\n",
       "   Parch            Ticket     Fare Cabin Embarked  \n",
       "0      0         A/5 21171   7.2500   NaN        S  \n",
       "1      0          PC 17599  71.2833   C85        C  \n",
       "2      0  STON/O2. 3101282   7.9250   NaN        S  \n",
       "3      0            113803  53.1000  C123        S  \n",
       "4      0            373450   8.0500   NaN        S  "
      ]
     },
     "execution_count": 3,
     "metadata": {},
     "output_type": "execute_result"
    }
   ],
   "source": [
    "df_train=pd.read_csv('/kaggle/input/titanic/train.csv')\n",
    "df_train.head()"
   ]
  },
  {
   "cell_type": "markdown",
   "id": "b37d6017",
   "metadata": {
    "papermill": {
     "duration": 0.012326,
     "end_time": "2023-02-28T12:01:14.408132",
     "exception": false,
     "start_time": "2023-02-28T12:01:14.395806",
     "status": "completed"
    },
    "tags": []
   },
   "source": [
    "**EDA and Data Visualization on Training Set**"
   ]
  },
  {
   "cell_type": "code",
   "execution_count": 4,
   "id": "a3921acd",
   "metadata": {
    "execution": {
     "iopub.execute_input": "2023-02-28T12:01:14.435387Z",
     "iopub.status.busy": "2023-02-28T12:01:14.434953Z",
     "iopub.status.idle": "2023-02-28T12:01:14.443499Z",
     "shell.execute_reply": "2023-02-28T12:01:14.442330Z"
    },
    "papermill": {
     "duration": 0.025124,
     "end_time": "2023-02-28T12:01:14.445822",
     "exception": false,
     "start_time": "2023-02-28T12:01:14.420698",
     "status": "completed"
    },
    "tags": []
   },
   "outputs": [
    {
     "data": {
      "text/plain": [
       "PassengerId      int64\n",
       "Survived         int64\n",
       "Pclass           int64\n",
       "Name            object\n",
       "Sex             object\n",
       "Age            float64\n",
       "SibSp            int64\n",
       "Parch            int64\n",
       "Ticket          object\n",
       "Fare           float64\n",
       "Cabin           object\n",
       "Embarked        object\n",
       "dtype: object"
      ]
     },
     "execution_count": 4,
     "metadata": {},
     "output_type": "execute_result"
    }
   ],
   "source": [
    "df_train.dtypes"
   ]
  },
  {
   "cell_type": "code",
   "execution_count": 5,
   "id": "74ee70a7",
   "metadata": {
    "execution": {
     "iopub.execute_input": "2023-02-28T12:01:14.475700Z",
     "iopub.status.busy": "2023-02-28T12:01:14.475270Z",
     "iopub.status.idle": "2023-02-28T12:01:14.501850Z",
     "shell.execute_reply": "2023-02-28T12:01:14.500566Z"
    },
    "papermill": {
     "duration": 0.045459,
     "end_time": "2023-02-28T12:01:14.504371",
     "exception": false,
     "start_time": "2023-02-28T12:01:14.458912",
     "status": "completed"
    },
    "tags": []
   },
   "outputs": [
    {
     "name": "stdout",
     "output_type": "stream",
     "text": [
      "<class 'pandas.core.frame.DataFrame'>\n",
      "RangeIndex: 891 entries, 0 to 890\n",
      "Data columns (total 12 columns):\n",
      " #   Column       Non-Null Count  Dtype  \n",
      "---  ------       --------------  -----  \n",
      " 0   PassengerId  891 non-null    int64  \n",
      " 1   Survived     891 non-null    int64  \n",
      " 2   Pclass       891 non-null    int64  \n",
      " 3   Name         891 non-null    object \n",
      " 4   Sex          891 non-null    object \n",
      " 5   Age          714 non-null    float64\n",
      " 6   SibSp        891 non-null    int64  \n",
      " 7   Parch        891 non-null    int64  \n",
      " 8   Ticket       891 non-null    object \n",
      " 9   Fare         891 non-null    float64\n",
      " 10  Cabin        204 non-null    object \n",
      " 11  Embarked     889 non-null    object \n",
      "dtypes: float64(2), int64(5), object(5)\n",
      "memory usage: 83.7+ KB\n"
     ]
    }
   ],
   "source": [
    "df_train.info()"
   ]
  },
  {
   "cell_type": "code",
   "execution_count": 6,
   "id": "c2dcbe12",
   "metadata": {
    "execution": {
     "iopub.execute_input": "2023-02-28T12:01:14.532368Z",
     "iopub.status.busy": "2023-02-28T12:01:14.531877Z",
     "iopub.status.idle": "2023-02-28T12:01:14.570521Z",
     "shell.execute_reply": "2023-02-28T12:01:14.569189Z"
    },
    "papermill": {
     "duration": 0.055492,
     "end_time": "2023-02-28T12:01:14.572955",
     "exception": false,
     "start_time": "2023-02-28T12:01:14.517463",
     "status": "completed"
    },
    "tags": []
   },
   "outputs": [
    {
     "data": {
      "text/html": [
       "<div>\n",
       "<style scoped>\n",
       "    .dataframe tbody tr th:only-of-type {\n",
       "        vertical-align: middle;\n",
       "    }\n",
       "\n",
       "    .dataframe tbody tr th {\n",
       "        vertical-align: top;\n",
       "    }\n",
       "\n",
       "    .dataframe thead th {\n",
       "        text-align: right;\n",
       "    }\n",
       "</style>\n",
       "<table border=\"1\" class=\"dataframe\">\n",
       "  <thead>\n",
       "    <tr style=\"text-align: right;\">\n",
       "      <th></th>\n",
       "      <th>PassengerId</th>\n",
       "      <th>Survived</th>\n",
       "      <th>Pclass</th>\n",
       "      <th>Age</th>\n",
       "      <th>SibSp</th>\n",
       "      <th>Parch</th>\n",
       "      <th>Fare</th>\n",
       "    </tr>\n",
       "  </thead>\n",
       "  <tbody>\n",
       "    <tr>\n",
       "      <th>count</th>\n",
       "      <td>891.000000</td>\n",
       "      <td>891.000000</td>\n",
       "      <td>891.000000</td>\n",
       "      <td>714.000000</td>\n",
       "      <td>891.000000</td>\n",
       "      <td>891.000000</td>\n",
       "      <td>891.000000</td>\n",
       "    </tr>\n",
       "    <tr>\n",
       "      <th>mean</th>\n",
       "      <td>446.000000</td>\n",
       "      <td>0.383838</td>\n",
       "      <td>2.308642</td>\n",
       "      <td>29.699118</td>\n",
       "      <td>0.523008</td>\n",
       "      <td>0.381594</td>\n",
       "      <td>32.204208</td>\n",
       "    </tr>\n",
       "    <tr>\n",
       "      <th>std</th>\n",
       "      <td>257.353842</td>\n",
       "      <td>0.486592</td>\n",
       "      <td>0.836071</td>\n",
       "      <td>14.526497</td>\n",
       "      <td>1.102743</td>\n",
       "      <td>0.806057</td>\n",
       "      <td>49.693429</td>\n",
       "    </tr>\n",
       "    <tr>\n",
       "      <th>min</th>\n",
       "      <td>1.000000</td>\n",
       "      <td>0.000000</td>\n",
       "      <td>1.000000</td>\n",
       "      <td>0.420000</td>\n",
       "      <td>0.000000</td>\n",
       "      <td>0.000000</td>\n",
       "      <td>0.000000</td>\n",
       "    </tr>\n",
       "    <tr>\n",
       "      <th>25%</th>\n",
       "      <td>223.500000</td>\n",
       "      <td>0.000000</td>\n",
       "      <td>2.000000</td>\n",
       "      <td>20.125000</td>\n",
       "      <td>0.000000</td>\n",
       "      <td>0.000000</td>\n",
       "      <td>7.910400</td>\n",
       "    </tr>\n",
       "    <tr>\n",
       "      <th>50%</th>\n",
       "      <td>446.000000</td>\n",
       "      <td>0.000000</td>\n",
       "      <td>3.000000</td>\n",
       "      <td>28.000000</td>\n",
       "      <td>0.000000</td>\n",
       "      <td>0.000000</td>\n",
       "      <td>14.454200</td>\n",
       "    </tr>\n",
       "    <tr>\n",
       "      <th>75%</th>\n",
       "      <td>668.500000</td>\n",
       "      <td>1.000000</td>\n",
       "      <td>3.000000</td>\n",
       "      <td>38.000000</td>\n",
       "      <td>1.000000</td>\n",
       "      <td>0.000000</td>\n",
       "      <td>31.000000</td>\n",
       "    </tr>\n",
       "    <tr>\n",
       "      <th>max</th>\n",
       "      <td>891.000000</td>\n",
       "      <td>1.000000</td>\n",
       "      <td>3.000000</td>\n",
       "      <td>80.000000</td>\n",
       "      <td>8.000000</td>\n",
       "      <td>6.000000</td>\n",
       "      <td>512.329200</td>\n",
       "    </tr>\n",
       "  </tbody>\n",
       "</table>\n",
       "</div>"
      ],
      "text/plain": [
       "       PassengerId    Survived      Pclass         Age       SibSp  \\\n",
       "count   891.000000  891.000000  891.000000  714.000000  891.000000   \n",
       "mean    446.000000    0.383838    2.308642   29.699118    0.523008   \n",
       "std     257.353842    0.486592    0.836071   14.526497    1.102743   \n",
       "min       1.000000    0.000000    1.000000    0.420000    0.000000   \n",
       "25%     223.500000    0.000000    2.000000   20.125000    0.000000   \n",
       "50%     446.000000    0.000000    3.000000   28.000000    0.000000   \n",
       "75%     668.500000    1.000000    3.000000   38.000000    1.000000   \n",
       "max     891.000000    1.000000    3.000000   80.000000    8.000000   \n",
       "\n",
       "            Parch        Fare  \n",
       "count  891.000000  891.000000  \n",
       "mean     0.381594   32.204208  \n",
       "std      0.806057   49.693429  \n",
       "min      0.000000    0.000000  \n",
       "25%      0.000000    7.910400  \n",
       "50%      0.000000   14.454200  \n",
       "75%      0.000000   31.000000  \n",
       "max      6.000000  512.329200  "
      ]
     },
     "execution_count": 6,
     "metadata": {},
     "output_type": "execute_result"
    }
   ],
   "source": [
    "df_train.describe()"
   ]
  },
  {
   "cell_type": "code",
   "execution_count": 7,
   "id": "aad46ee7",
   "metadata": {
    "execution": {
     "iopub.execute_input": "2023-02-28T12:01:14.601800Z",
     "iopub.status.busy": "2023-02-28T12:01:14.600702Z",
     "iopub.status.idle": "2023-02-28T12:01:14.611508Z",
     "shell.execute_reply": "2023-02-28T12:01:14.610182Z"
    },
    "papermill": {
     "duration": 0.028065,
     "end_time": "2023-02-28T12:01:14.614202",
     "exception": false,
     "start_time": "2023-02-28T12:01:14.586137",
     "status": "completed"
    },
    "tags": []
   },
   "outputs": [
    {
     "data": {
      "text/plain": [
       "PassengerId      0\n",
       "Survived         0\n",
       "Pclass           0\n",
       "Name             0\n",
       "Sex              0\n",
       "Age            177\n",
       "SibSp            0\n",
       "Parch            0\n",
       "Ticket           0\n",
       "Fare             0\n",
       "Cabin          687\n",
       "Embarked         2\n",
       "dtype: int64"
      ]
     },
     "execution_count": 7,
     "metadata": {},
     "output_type": "execute_result"
    }
   ],
   "source": [
    "df_train.isna().sum()"
   ]
  },
  {
   "cell_type": "markdown",
   "id": "08fce2ea",
   "metadata": {
    "papermill": {
     "duration": 0.012975,
     "end_time": "2023-02-28T12:01:14.640647",
     "exception": false,
     "start_time": "2023-02-28T12:01:14.627672",
     "status": "completed"
    },
    "tags": []
   },
   "source": [
    "Data Visualization"
   ]
  },
  {
   "cell_type": "code",
   "execution_count": 8,
   "id": "24bc0b7d",
   "metadata": {
    "execution": {
     "iopub.execute_input": "2023-02-28T12:01:14.670393Z",
     "iopub.status.busy": "2023-02-28T12:01:14.669952Z",
     "iopub.status.idle": "2023-02-28T12:01:14.901616Z",
     "shell.execute_reply": "2023-02-28T12:01:14.900412Z"
    },
    "papermill": {
     "duration": 0.249863,
     "end_time": "2023-02-28T12:01:14.904165",
     "exception": false,
     "start_time": "2023-02-28T12:01:14.654302",
     "status": "completed"
    },
    "tags": []
   },
   "outputs": [
    {
     "data": {
      "text/plain": [
       "0    549\n",
       "1    342\n",
       "Name: Survived, dtype: int64"
      ]
     },
     "execution_count": 8,
     "metadata": {},
     "output_type": "execute_result"
    },
    {
     "data": {
      "image/png": "[encoded data removed]",
      "text/plain": [
       "<Figure size 640x480 with 1 Axes>"
      ]
     },
     "metadata": {},
     "output_type": "display_data"
    }
   ],
   "source": [
    "sns.countplot(x='Survived',data=df_train)\n",
    "df_train['Survived'].value_counts()"
   ]
  },
  {
   "cell_type": "code",
   "execution_count": 9,
   "id": "50f6f1bf",
   "metadata": {
    "execution": {
     "iopub.execute_input": "2023-02-28T12:01:14.934737Z",
     "iopub.status.busy": "2023-02-28T12:01:14.933600Z",
     "iopub.status.idle": "2023-02-28T12:01:15.138198Z",
     "shell.execute_reply": "2023-02-28T12:01:15.136777Z"
    },
    "papermill": {
     "duration": 0.222847,
     "end_time": "2023-02-28T12:01:15.141171",
     "exception": false,
     "start_time": "2023-02-28T12:01:14.918324",
     "status": "completed"
    },
    "tags": []
   },
   "outputs": [
    {
     "data": {
      "text/plain": [
       "3    491\n",
       "1    216\n",
       "2    184\n",
       "Name: Pclass, dtype: int64"
      ]
     },
     "execution_count": 9,
     "metadata": {},
     "output_type": "execute_result"
    },
    {
     "data": {
      "image/png": "[encoded data removed]",
      "text/plain": [
       "<Figure size 640x480 with 1 Axes>"
      ]
     },
     "metadata": {},
     "output_type": "display_data"
    }
   ],
   "source": [
    "sns.countplot(x='Pclass',data=df_train)\n",
    "df_train['Pclass'].value_counts()"
   ]
  },
  {
   "cell_type": "code",
   "execution_count": 10,
   "id": "90e3c2fb",
   "metadata": {
    "execution": {
     "iopub.execute_input": "2023-02-28T12:01:15.171896Z",
     "iopub.status.busy": "2023-02-28T12:01:15.170858Z",
     "iopub.status.idle": "2023-02-28T12:01:15.372468Z",
     "shell.execute_reply": "2023-02-28T12:01:15.371356Z"
    },
    "papermill": {
     "duration": 0.219992,
     "end_time": "2023-02-28T12:01:15.375330",
     "exception": false,
     "start_time": "2023-02-28T12:01:15.155338",
     "status": "completed"
    },
    "tags": []
   },
   "outputs": [
    {
     "data": {
      "text/plain": [
       "male      577\n",
       "female    314\n",
       "Name: Sex, dtype: int64"
      ]
     },
     "execution_count": 10,
     "metadata": {},
     "output_type": "execute_result"
    },
    {
     "data": {
      "image/png": "[encoded data removed]",
      "text/plain": [
       "<Figure size 640x480 with 1 Axes>"
      ]
     },
     "metadata": {},
     "output_type": "display_data"
    }
   ],
   "source": [
    "sns.countplot(x='Sex',data=df_train)\n",
    "df_train['Sex'].value_counts()"
   ]
  },
  {
   "cell_type": "code",
   "execution_count": 11,
   "id": "88b6f061",
   "metadata": {
    "execution": {
     "iopub.execute_input": "2023-02-28T12:01:15.406353Z",
     "iopub.status.busy": "2023-02-28T12:01:15.405930Z",
     "iopub.status.idle": "2023-02-28T12:01:15.645144Z",
     "shell.execute_reply": "2023-02-28T12:01:15.644021Z"
    },
    "papermill": {
     "duration": 0.258015,
     "end_time": "2023-02-28T12:01:15.647768",
     "exception": false,
     "start_time": "2023-02-28T12:01:15.389753",
     "status": "completed"
    },
    "tags": []
   },
   "outputs": [
    {
     "data": {
      "text/plain": [
       "0    608\n",
       "1    209\n",
       "2     28\n",
       "4     18\n",
       "3     16\n",
       "8      7\n",
       "5      5\n",
       "Name: SibSp, dtype: int64"
      ]
     },
     "execution_count": 11,
     "metadata": {},
     "output_type": "execute_result"
    },
    {
     "data": {
      "image/png": "[encoded data removed]",
      "text/plain": [
       "<Figure size 640x480 with 1 Axes>"
      ]
     },
     "metadata": {},
     "output_type": "display_data"
    }
   ],
   "source": [
    "sns.countplot(x='SibSp',data=df_train)\n",
    "df_train['SibSp'].value_counts()"
   ]
  },
  {
   "cell_type": "code",
   "execution_count": 12,
   "id": "88e98197",
   "metadata": {
    "execution": {
     "iopub.execute_input": "2023-02-28T12:01:15.679431Z",
     "iopub.status.busy": "2023-02-28T12:01:15.679027Z",
     "iopub.status.idle": "2023-02-28T12:01:15.920057Z",
     "shell.execute_reply": "2023-02-28T12:01:15.918778Z"
    },
    "papermill": {
     "duration": 0.260314,
     "end_time": "2023-02-28T12:01:15.923046",
     "exception": false,
     "start_time": "2023-02-28T12:01:15.662732",
     "status": "completed"
    },
    "tags": []
   },
   "outputs": [
    {
     "data": {
      "text/plain": [
       "0    678\n",
       "1    118\n",
       "2     80\n",
       "5      5\n",
       "3      5\n",
       "4      4\n",
       "6      1\n",
       "Name: Parch, dtype: int64"
      ]
     },
     "execution_count": 12,
     "metadata": {},
     "output_type": "execute_result"
    },
    {
     "data": {
      "image/png": "[encoded data removed]",
      "text/plain": [
       "<Figure size 640x480 with 1 Axes>"
      ]
     },
     "metadata": {},
     "output_type": "display_data"
    }
   ],
   "source": [
    "sns.countplot(x='Parch',data=df_train)\n",
    "df_train['Parch'].value_counts()"
   ]
  },
  {
   "cell_type": "code",
   "execution_count": 13,
   "id": "27280459",
   "metadata": {
    "execution": {
     "iopub.execute_input": "2023-02-28T12:01:15.956453Z",
     "iopub.status.busy": "2023-02-28T12:01:15.955159Z",
     "iopub.status.idle": "2023-02-28T12:01:16.165865Z",
     "shell.execute_reply": "2023-02-28T12:01:16.164526Z"
    },
    "papermill": {
     "duration": 0.230287,
     "end_time": "2023-02-28T12:01:16.168826",
     "exception": false,
     "start_time": "2023-02-28T12:01:15.938539",
     "status": "completed"
    },
    "tags": []
   },
   "outputs": [
    {
     "data": {
      "text/plain": [
       "S    644\n",
       "C    168\n",
       "Q     77\n",
       "Name: Embarked, dtype: int64"
      ]
     },
     "execution_count": 13,
     "metadata": {},
     "output_type": "execute_result"
    },
    {
     "data": {
      "image/png": "[encoded data removed]",
      "text/plain": [
       "<Figure size 640x480 with 1 Axes>"
      ]
     },
     "metadata": {},
     "output_type": "display_data"
    }
   ],
   "source": [
    "sns.countplot(x='Embarked',data=df_train)\n",
    "df_train['Embarked'].value_counts()"
   ]
  },
  {
   "cell_type": "code",
   "execution_count": 14,
   "id": "2a3d9b19",
   "metadata": {
    "execution": {
     "iopub.execute_input": "2023-02-28T12:01:16.202148Z",
     "iopub.status.busy": "2023-02-28T12:01:16.201683Z",
     "iopub.status.idle": "2023-02-28T12:01:16.410105Z",
     "shell.execute_reply": "2023-02-28T12:01:16.408528Z"
    },
    "papermill": {
     "duration": 0.22823,
     "end_time": "2023-02-28T12:01:16.412902",
     "exception": false,
     "start_time": "2023-02-28T12:01:16.184672",
     "status": "completed"
    },
    "tags": []
   },
   "outputs": [
    {
     "data": {
      "text/plain": [
       "<AxesSubplot:xlabel='Pclass'>"
      ]
     },
     "execution_count": 14,
     "metadata": {},
     "output_type": "execute_result"
    },
    {
     "data": {
      "image/png": "[encoded data removed]",
      "text/plain": [
       "<Figure size 640x480 with 1 Axes>"
      ]
     },
     "metadata": {},
     "output_type": "display_data"
    }
   ],
   "source": [
    "sns.boxplot(x='Pclass',data=df_train)"
   ]
  },
  {
   "cell_type": "code",
   "execution_count": 15,
   "id": "3f9af12b",
   "metadata": {
    "execution": {
     "iopub.execute_input": "2023-02-28T12:01:16.447041Z",
     "iopub.status.busy": "2023-02-28T12:01:16.446561Z",
     "iopub.status.idle": "2023-02-28T12:01:16.589754Z",
     "shell.execute_reply": "2023-02-28T12:01:16.588812Z"
    },
    "papermill": {
     "duration": 0.163382,
     "end_time": "2023-02-28T12:01:16.592422",
     "exception": false,
     "start_time": "2023-02-28T12:01:16.429040",
     "status": "completed"
    },
    "tags": []
   },
   "outputs": [
    {
     "data": {
      "text/plain": [
       "<AxesSubplot:xlabel='Age'>"
      ]
     },
     "execution_count": 15,
     "metadata": {},
     "output_type": "execute_result"
    },
    {
     "data": {
      "image/png": "[encoded data removed]",
      "text/plain": [
       "<Figure size 640x480 with 1 Axes>"
      ]
     },
     "metadata": {},
     "output_type": "display_data"
    }
   ],
   "source": [
    "sns.boxplot(x='Age',data=df_train)"
   ]
  },
  {
   "cell_type": "code",
   "execution_count": 16,
   "id": "688220b1",
   "metadata": {
    "execution": {
     "iopub.execute_input": "2023-02-28T12:01:16.627535Z",
     "iopub.status.busy": "2023-02-28T12:01:16.626759Z",
     "iopub.status.idle": "2023-02-28T12:01:16.762107Z",
     "shell.execute_reply": "2023-02-28T12:01:16.761121Z"
    },
    "papermill": {
     "duration": 0.155805,
     "end_time": "2023-02-28T12:01:16.764678",
     "exception": false,
     "start_time": "2023-02-28T12:01:16.608873",
     "status": "completed"
    },
    "tags": []
   },
   "outputs": [
    {
     "data": {
      "text/plain": [
       "<AxesSubplot:xlabel='SibSp'>"
      ]
     },
     "execution_count": 16,
     "metadata": {},
     "output_type": "execute_result"
    },
    {
     "data": {
      "image/png": "[encoded data removed]",
      "text/plain": [
       "<Figure size 640x480 with 1 Axes>"
      ]
     },
     "metadata": {},
     "output_type": "display_data"
    }
   ],
   "source": [
    "sns.boxplot(x='SibSp',data=df_train)"
   ]
  },
  {
   "cell_type": "code",
   "execution_count": 17,
   "id": "ff745297",
   "metadata": {
    "execution": {
     "iopub.execute_input": "2023-02-28T12:01:16.800087Z",
     "iopub.status.busy": "2023-02-28T12:01:16.799642Z",
     "iopub.status.idle": "2023-02-28T12:01:16.926720Z",
     "shell.execute_reply": "2023-02-28T12:01:16.925812Z"
    },
    "papermill": {
     "duration": 0.147694,
     "end_time": "2023-02-28T12:01:16.929213",
     "exception": false,
     "start_time": "2023-02-28T12:01:16.781519",
     "status": "completed"
    },
    "tags": []
   },
   "outputs": [
    {
     "data": {
      "text/plain": [
       "<AxesSubplot:xlabel='Parch'>"
      ]
     },
     "execution_count": 17,
     "metadata": {},
     "output_type": "execute_result"
    },
    {
     "data": {
      "image/png": "[encoded data removed]",
      "text/plain": [
       "<Figure size 640x480 with 1 Axes>"
      ]
     },
     "metadata": {},
     "output_type": "display_data"
    }
   ],
   "source": [
    "sns.boxplot(x='Parch',data=df_train)"
   ]
  },
  {
   "cell_type": "markdown",
   "id": "19b5d89e",
   "metadata": {
    "papermill": {
     "duration": 0.016547,
     "end_time": "2023-02-28T12:01:16.962775",
     "exception": false,
     "start_time": "2023-02-28T12:01:16.946228",
     "status": "completed"
    },
    "tags": []
   },
   "source": [
    "Data Cleaning"
   ]
  },
  {
   "cell_type": "code",
   "execution_count": 18,
   "id": "0025b10d",
   "metadata": {
    "execution": {
     "iopub.execute_input": "2023-02-28T12:01:16.998983Z",
     "iopub.status.busy": "2023-02-28T12:01:16.998136Z",
     "iopub.status.idle": "2023-02-28T12:01:17.014384Z",
     "shell.execute_reply": "2023-02-28T12:01:17.013207Z"
    },
    "papermill": {
     "duration": 0.037272,
     "end_time": "2023-02-28T12:01:17.016857",
     "exception": false,
     "start_time": "2023-02-28T12:01:16.979585",
     "status": "completed"
    },
    "tags": []
   },
   "outputs": [
    {
     "data": {
      "text/html": [
       "<div>\n",
       "<style scoped>\n",
       "    .dataframe tbody tr th:only-of-type {\n",
       "        vertical-align: middle;\n",
       "    }\n",
       "\n",
       "    .dataframe tbody tr th {\n",
       "        vertical-align: top;\n",
       "    }\n",
       "\n",
       "    .dataframe thead th {\n",
       "        text-align: right;\n",
       "    }\n",
       "</style>\n",
       "<table border=\"1\" class=\"dataframe\">\n",
       "  <thead>\n",
       "    <tr style=\"text-align: right;\">\n",
       "      <th></th>\n",
       "      <th>Survived</th>\n",
       "      <th>Pclass</th>\n",
       "      <th>Sex</th>\n",
       "      <th>Age</th>\n",
       "      <th>SibSp</th>\n",
       "      <th>Parch</th>\n",
       "      <th>Fare</th>\n",
       "      <th>Embarked</th>\n",
       "    </tr>\n",
       "  </thead>\n",
       "  <tbody>\n",
       "    <tr>\n",
       "      <th>0</th>\n",
       "      <td>0</td>\n",
       "      <td>3</td>\n",
       "      <td>male</td>\n",
       "      <td>22.0</td>\n",
       "      <td>1</td>\n",
       "      <td>0</td>\n",
       "      <td>7.2500</td>\n",
       "      <td>S</td>\n",
       "    </tr>\n",
       "    <tr>\n",
       "      <th>1</th>\n",
       "      <td>1</td>\n",
       "      <td>1</td>\n",
       "      <td>female</td>\n",
       "      <td>38.0</td>\n",
       "      <td>1</td>\n",
       "      <td>0</td>\n",
       "      <td>71.2833</td>\n",
       "      <td>C</td>\n",
       "    </tr>\n",
       "    <tr>\n",
       "      <th>2</th>\n",
       "      <td>1</td>\n",
       "      <td>3</td>\n",
       "      <td>female</td>\n",
       "      <td>26.0</td>\n",
       "      <td>0</td>\n",
       "      <td>0</td>\n",
       "      <td>7.9250</td>\n",
       "      <td>S</td>\n",
       "    </tr>\n",
       "    <tr>\n",
       "      <th>3</th>\n",
       "      <td>1</td>\n",
       "      <td>1</td>\n",
       "      <td>female</td>\n",
       "      <td>35.0</td>\n",
       "      <td>1</td>\n",
       "      <td>0</td>\n",
       "      <td>53.1000</td>\n",
       "      <td>S</td>\n",
       "    </tr>\n",
       "    <tr>\n",
       "      <th>4</th>\n",
       "      <td>0</td>\n",
       "      <td>3</td>\n",
       "      <td>male</td>\n",
       "      <td>35.0</td>\n",
       "      <td>0</td>\n",
       "      <td>0</td>\n",
       "      <td>8.0500</td>\n",
       "      <td>S</td>\n",
       "    </tr>\n",
       "  </tbody>\n",
       "</table>\n",
       "</div>"
      ],
      "text/plain": [
       "   Survived  Pclass     Sex   Age  SibSp  Parch     Fare Embarked\n",
       "0         0       3    male  22.0      1      0   7.2500        S\n",
       "1         1       1  female  38.0      1      0  71.2833        C\n",
       "2         1       3  female  26.0      0      0   7.9250        S\n",
       "3         1       1  female  35.0      1      0  53.1000        S\n",
       "4         0       3    male  35.0      0      0   8.0500        S"
      ]
     },
     "execution_count": 18,
     "metadata": {},
     "output_type": "execute_result"
    }
   ],
   "source": [
    "df_train.drop(['PassengerId','Ticket','Cabin','Name'],axis=1,inplace=True)\n",
    "df_train.head()"
   ]
  },
  {
   "cell_type": "code",
   "execution_count": 19,
   "id": "16475bb6",
   "metadata": {
    "execution": {
     "iopub.execute_input": "2023-02-28T12:01:17.053186Z",
     "iopub.status.busy": "2023-02-28T12:01:17.052755Z",
     "iopub.status.idle": "2023-02-28T12:01:17.065662Z",
     "shell.execute_reply": "2023-02-28T12:01:17.064258Z"
    },
    "papermill": {
     "duration": 0.034257,
     "end_time": "2023-02-28T12:01:17.068232",
     "exception": false,
     "start_time": "2023-02-28T12:01:17.033975",
     "status": "completed"
    },
    "tags": []
   },
   "outputs": [
    {
     "data": {
      "text/plain": [
       "Survived    0\n",
       "Pclass      0\n",
       "Sex         0\n",
       "Age         0\n",
       "SibSp       0\n",
       "Parch       0\n",
       "Fare        0\n",
       "Embarked    2\n",
       "dtype: int64"
      ]
     },
     "execution_count": 19,
     "metadata": {},
     "output_type": "execute_result"
    }
   ],
   "source": [
    "df_train.Age=df_train.Age.fillna(df_train.Age.mean())\n",
    "df_train.isna().sum()"
   ]
  },
  {
   "cell_type": "code",
   "execution_count": 20,
   "id": "106f1e8d",
   "metadata": {
    "execution": {
     "iopub.execute_input": "2023-02-28T12:01:17.105696Z",
     "iopub.status.busy": "2023-02-28T12:01:17.105292Z",
     "iopub.status.idle": "2023-02-28T12:01:17.116237Z",
     "shell.execute_reply": "2023-02-28T12:01:17.115357Z"
    },
    "papermill": {
     "duration": 0.032633,
     "end_time": "2023-02-28T12:01:17.118504",
     "exception": false,
     "start_time": "2023-02-28T12:01:17.085871",
     "status": "completed"
    },
    "tags": []
   },
   "outputs": [
    {
     "data": {
      "text/plain": [
       "Survived    0\n",
       "Pclass      0\n",
       "Sex         0\n",
       "Age         0\n",
       "SibSp       0\n",
       "Parch       0\n",
       "Fare        0\n",
       "Embarked    0\n",
       "dtype: int64"
      ]
     },
     "execution_count": 20,
     "metadata": {},
     "output_type": "execute_result"
    }
   ],
   "source": [
    "df_train.Embarked=df_train.Embarked.fillna('S')\n",
    "df_train.isna().sum()"
   ]
  },
  {
   "cell_type": "markdown",
   "id": "0968615a",
   "metadata": {
    "papermill": {
     "duration": 0.017103,
     "end_time": "2023-02-28T12:01:17.153846",
     "exception": false,
     "start_time": "2023-02-28T12:01:17.136743",
     "status": "completed"
    },
    "tags": []
   },
   "source": [
    "Encoding the Sex field"
   ]
  },
  {
   "cell_type": "code",
   "execution_count": 21,
   "id": "7c1bfd8f",
   "metadata": {
    "execution": {
     "iopub.execute_input": "2023-02-28T12:01:17.191555Z",
     "iopub.status.busy": "2023-02-28T12:01:17.190363Z",
     "iopub.status.idle": "2023-02-28T12:01:17.371075Z",
     "shell.execute_reply": "2023-02-28T12:01:17.370175Z"
    },
    "papermill": {
     "duration": 0.201951,
     "end_time": "2023-02-28T12:01:17.373263",
     "exception": false,
     "start_time": "2023-02-28T12:01:17.171312",
     "status": "completed"
    },
    "tags": []
   },
   "outputs": [
    {
     "data": {
      "text/html": [
       "<div>\n",
       "<style scoped>\n",
       "    .dataframe tbody tr th:only-of-type {\n",
       "        vertical-align: middle;\n",
       "    }\n",
       "\n",
       "    .dataframe tbody tr th {\n",
       "        vertical-align: top;\n",
       "    }\n",
       "\n",
       "    .dataframe thead th {\n",
       "        text-align: right;\n",
       "    }\n",
       "</style>\n",
       "<table border=\"1\" class=\"dataframe\">\n",
       "  <thead>\n",
       "    <tr style=\"text-align: right;\">\n",
       "      <th></th>\n",
       "      <th>Survived</th>\n",
       "      <th>Pclass</th>\n",
       "      <th>Sex</th>\n",
       "      <th>Age</th>\n",
       "      <th>SibSp</th>\n",
       "      <th>Parch</th>\n",
       "      <th>Fare</th>\n",
       "      <th>Embarked</th>\n",
       "    </tr>\n",
       "  </thead>\n",
       "  <tbody>\n",
       "    <tr>\n",
       "      <th>0</th>\n",
       "      <td>0</td>\n",
       "      <td>3</td>\n",
       "      <td>1</td>\n",
       "      <td>22.0</td>\n",
       "      <td>1</td>\n",
       "      <td>0</td>\n",
       "      <td>7.2500</td>\n",
       "      <td>S</td>\n",
       "    </tr>\n",
       "    <tr>\n",
       "      <th>1</th>\n",
       "      <td>1</td>\n",
       "      <td>1</td>\n",
       "      <td>0</td>\n",
       "      <td>38.0</td>\n",
       "      <td>1</td>\n",
       "      <td>0</td>\n",
       "      <td>71.2833</td>\n",
       "      <td>C</td>\n",
       "    </tr>\n",
       "    <tr>\n",
       "      <th>2</th>\n",
       "      <td>1</td>\n",
       "      <td>3</td>\n",
       "      <td>0</td>\n",
       "      <td>26.0</td>\n",
       "      <td>0</td>\n",
       "      <td>0</td>\n",
       "      <td>7.9250</td>\n",
       "      <td>S</td>\n",
       "    </tr>\n",
       "    <tr>\n",
       "      <th>3</th>\n",
       "      <td>1</td>\n",
       "      <td>1</td>\n",
       "      <td>0</td>\n",
       "      <td>35.0</td>\n",
       "      <td>1</td>\n",
       "      <td>0</td>\n",
       "      <td>53.1000</td>\n",
       "      <td>S</td>\n",
       "    </tr>\n",
       "    <tr>\n",
       "      <th>4</th>\n",
       "      <td>0</td>\n",
       "      <td>3</td>\n",
       "      <td>1</td>\n",
       "      <td>35.0</td>\n",
       "      <td>0</td>\n",
       "      <td>0</td>\n",
       "      <td>8.0500</td>\n",
       "      <td>S</td>\n",
       "    </tr>\n",
       "  </tbody>\n",
       "</table>\n",
       "</div>"
      ],
      "text/plain": [
       "   Survived  Pclass  Sex   Age  SibSp  Parch     Fare Embarked\n",
       "0         0       3    1  22.0      1      0   7.2500        S\n",
       "1         1       1    0  38.0      1      0  71.2833        C\n",
       "2         1       3    0  26.0      0      0   7.9250        S\n",
       "3         1       1    0  35.0      1      0  53.1000        S\n",
       "4         0       3    1  35.0      0      0   8.0500        S"
      ]
     },
     "execution_count": 21,
     "metadata": {},
     "output_type": "execute_result"
    }
   ],
   "source": [
    "from sklearn.preprocessing import LabelEncoder\n",
    "le1=LabelEncoder()\n",
    "df_train['Sex']=le1.fit_transform(df_train['Sex'])\n",
    "df_train.head()"
   ]
  },
  {
   "cell_type": "markdown",
   "id": "38647d5b",
   "metadata": {
    "papermill": {
     "duration": 0.017063,
     "end_time": "2023-02-28T12:01:17.407579",
     "exception": false,
     "start_time": "2023-02-28T12:01:17.390516",
     "status": "completed"
    },
    "tags": []
   },
   "source": []
  },
  {
   "cell_type": "markdown",
   "id": "79a785a8",
   "metadata": {
    "papermill": {
     "duration": 0.016936,
     "end_time": "2023-02-28T12:01:17.441647",
     "exception": false,
     "start_time": "2023-02-28T12:01:17.424711",
     "status": "completed"
    },
    "tags": []
   },
   "source": [
    "Applying the Encoder on the Embarked field"
   ]
  },
  {
   "cell_type": "code",
   "execution_count": 22,
   "id": "65afe08a",
   "metadata": {
    "execution": {
     "iopub.execute_input": "2023-02-28T12:01:17.478677Z",
     "iopub.status.busy": "2023-02-28T12:01:17.477899Z",
     "iopub.status.idle": "2023-02-28T12:01:17.507391Z",
     "shell.execute_reply": "2023-02-28T12:01:17.506181Z"
    },
    "papermill": {
     "duration": 0.051063,
     "end_time": "2023-02-28T12:01:17.509984",
     "exception": false,
     "start_time": "2023-02-28T12:01:17.458921",
     "status": "completed"
    },
    "tags": []
   },
   "outputs": [],
   "source": [
    "from sklearn.compose import ColumnTransformer\n",
    "from sklearn.preprocessing import OneHotEncoder\n",
    "ct=ColumnTransformer(transformers=[('encoder',OneHotEncoder(),[-1])],remainder='passthrough')\n",
    "df_train=np.array(ct.fit_transform(df_train))"
   ]
  },
  {
   "cell_type": "code",
   "execution_count": 23,
   "id": "76018cad",
   "metadata": {
    "execution": {
     "iopub.execute_input": "2023-02-28T12:01:17.546627Z",
     "iopub.status.busy": "2023-02-28T12:01:17.546226Z",
     "iopub.status.idle": "2023-02-28T12:01:17.552679Z",
     "shell.execute_reply": "2023-02-28T12:01:17.551296Z"
    },
    "papermill": {
     "duration": 0.028028,
     "end_time": "2023-02-28T12:01:17.555563",
     "exception": false,
     "start_time": "2023-02-28T12:01:17.527535",
     "status": "completed"
    },
    "tags": []
   },
   "outputs": [
    {
     "name": "stdout",
     "output_type": "stream",
     "text": [
      "[[ 0.      0.      1.     ...  1.      0.      7.25  ]\n",
      " [ 1.      0.      0.     ...  1.      0.     71.2833]\n",
      " [ 0.      0.      1.     ...  0.      0.      7.925 ]\n",
      " ...\n",
      " [ 0.      0.      1.     ...  1.      2.     23.45  ]\n",
      " [ 1.      0.      0.     ...  0.      0.     30.    ]\n",
      " [ 0.      1.      0.     ...  0.      0.      7.75  ]]\n"
     ]
    }
   ],
   "source": [
    "print(df_train)"
   ]
  },
  {
   "cell_type": "markdown",
   "id": "43e94d04",
   "metadata": {
    "papermill": {
     "duration": 0.017061,
     "end_time": "2023-02-28T12:01:17.590110",
     "exception": false,
     "start_time": "2023-02-28T12:01:17.573049",
     "status": "completed"
    },
    "tags": []
   },
   "source": [
    "Preparing x and y from Train set"
   ]
  },
  {
   "cell_type": "code",
   "execution_count": 24,
   "id": "8681973a",
   "metadata": {
    "execution": {
     "iopub.execute_input": "2023-02-28T12:01:17.626769Z",
     "iopub.status.busy": "2023-02-28T12:01:17.626325Z",
     "iopub.status.idle": "2023-02-28T12:01:17.633132Z",
     "shell.execute_reply": "2023-02-28T12:01:17.631819Z"
    },
    "papermill": {
     "duration": 0.028172,
     "end_time": "2023-02-28T12:01:17.635679",
     "exception": false,
     "start_time": "2023-02-28T12:01:17.607507",
     "status": "completed"
    },
    "tags": []
   },
   "outputs": [
    {
     "name": "stdout",
     "output_type": "stream",
     "text": [
      "(891, 9)\n",
      "(891,)\n"
     ]
    }
   ],
   "source": [
    "x=np.delete(df_train,3,1)\n",
    "y=df_train[:,3]\n",
    "print(x.shape)\n",
    "print(y.shape)"
   ]
  },
  {
   "cell_type": "markdown",
   "id": "6a63306a",
   "metadata": {
    "papermill": {
     "duration": 0.017156,
     "end_time": "2023-02-28T12:01:17.670357",
     "exception": false,
     "start_time": "2023-02-28T12:01:17.653201",
     "status": "completed"
    },
    "tags": []
   },
   "source": [
    "After this applying the Scaler"
   ]
  },
  {
   "cell_type": "code",
   "execution_count": 25,
   "id": "6fa9255f",
   "metadata": {
    "execution": {
     "iopub.execute_input": "2023-02-28T12:01:17.707205Z",
     "iopub.status.busy": "2023-02-28T12:01:17.706729Z",
     "iopub.status.idle": "2023-02-28T12:01:17.713658Z",
     "shell.execute_reply": "2023-02-28T12:01:17.712534Z"
    },
    "papermill": {
     "duration": 0.028253,
     "end_time": "2023-02-28T12:01:17.715978",
     "exception": false,
     "start_time": "2023-02-28T12:01:17.687725",
     "status": "completed"
    },
    "tags": []
   },
   "outputs": [],
   "source": [
    "from sklearn.preprocessing import StandardScaler\n",
    "sc=StandardScaler()\n",
    "x=sc.fit_transform(x)"
   ]
  },
  {
   "cell_type": "markdown",
   "id": "7d5e5415",
   "metadata": {
    "papermill": {
     "duration": 0.017144,
     "end_time": "2023-02-28T12:01:17.750623",
     "exception": false,
     "start_time": "2023-02-28T12:01:17.733479",
     "status": "completed"
    },
    "tags": []
   },
   "source": [
    "**Applying different classification models to find best Accuracy**"
   ]
  },
  {
   "cell_type": "markdown",
   "id": "f97036c3",
   "metadata": {
    "papermill": {
     "duration": 0.017033,
     "end_time": "2023-02-28T12:01:17.785146",
     "exception": false,
     "start_time": "2023-02-28T12:01:17.768113",
     "status": "completed"
    },
    "tags": []
   },
   "source": [
    "1.Logistic Regression Model"
   ]
  },
  {
   "cell_type": "code",
   "execution_count": 26,
   "id": "7bf48231",
   "metadata": {
    "execution": {
     "iopub.execute_input": "2023-02-28T12:01:17.821912Z",
     "iopub.status.busy": "2023-02-28T12:01:17.821463Z",
     "iopub.status.idle": "2023-02-28T12:01:18.018049Z",
     "shell.execute_reply": "2023-02-28T12:01:18.016551Z"
    },
    "papermill": {
     "duration": 0.218229,
     "end_time": "2023-02-28T12:01:18.020677",
     "exception": false,
     "start_time": "2023-02-28T12:01:17.802448",
     "status": "completed"
    },
    "tags": []
   },
   "outputs": [
    {
     "name": "stdout",
     "output_type": "stream",
     "text": [
      "Accuracy Score (By Logistic Regression) : 0.8002244668911336\n",
      "Confusion Matrix (By Logistic Regression) : [[473 102]\n",
      " [ 76 240]]\n"
     ]
    }
   ],
   "source": [
    "from sklearn.linear_model import LogisticRegression\n",
    "log=LogisticRegression()\n",
    "log.fit(x,y)\n",
    "y_p1=log.predict(x)\n",
    "\n",
    "\n",
    "from sklearn.metrics import accuracy_score,confusion_matrix\n",
    "print(\"Accuracy Score (By Logistic Regression) :\",accuracy_score(y_p1,y))\n",
    "print(\"Confusion Matrix (By Logistic Regression) :\",confusion_matrix(y_p1,y))"
   ]
  },
  {
   "cell_type": "markdown",
   "id": "14cacd4d",
   "metadata": {
    "papermill": {
     "duration": 0.020432,
     "end_time": "2023-02-28T12:01:18.059776",
     "exception": false,
     "start_time": "2023-02-28T12:01:18.039344",
     "status": "completed"
    },
    "tags": []
   },
   "source": [
    "2.KNN Classification Model"
   ]
  },
  {
   "cell_type": "code",
   "execution_count": 27,
   "id": "5789f4d8",
   "metadata": {
    "execution": {
     "iopub.execute_input": "2023-02-28T12:01:18.098345Z",
     "iopub.status.busy": "2023-02-28T12:01:18.097899Z",
     "iopub.status.idle": "2023-02-28T12:01:18.257890Z",
     "shell.execute_reply": "2023-02-28T12:01:18.256126Z"
    },
    "papermill": {
     "duration": 0.183663,
     "end_time": "2023-02-28T12:01:18.261927",
     "exception": false,
     "start_time": "2023-02-28T12:01:18.078264",
     "status": "completed"
    },
    "tags": []
   },
   "outputs": [
    {
     "name": "stdout",
     "output_type": "stream",
     "text": [
      "Accuracy Score (By Logistic Regression) : 0.8585858585858586\n",
      "Confusion Matrix (By Logistic Regression) : [[499  76]\n",
      " [ 50 266]]\n"
     ]
    }
   ],
   "source": [
    "from sklearn.neighbors import KNeighborsClassifier\n",
    "kc=KNeighborsClassifier(n_neighbors=5,metric='minkowski',p=2)\n",
    "kc.fit(x,y)\n",
    "y_p2=kc.predict(x)\n",
    "\n",
    "\n",
    "from sklearn.metrics import accuracy_score,confusion_matrix\n",
    "print(\"Accuracy Score (By Logistic Regression) :\",accuracy_score(y_p2,y))\n",
    "print(\"Confusion Matrix (By Logistic Regression) :\",confusion_matrix(y_p2,y))"
   ]
  },
  {
   "cell_type": "markdown",
   "id": "6f9ab944",
   "metadata": {
    "papermill": {
     "duration": 0.017822,
     "end_time": "2023-02-28T12:01:18.298331",
     "exception": false,
     "start_time": "2023-02-28T12:01:18.280509",
     "status": "completed"
    },
    "tags": []
   },
   "source": [
    "3.SVC classification Model"
   ]
  },
  {
   "cell_type": "code",
   "execution_count": 28,
   "id": "f686697c",
   "metadata": {
    "execution": {
     "iopub.execute_input": "2023-02-28T12:01:18.337026Z",
     "iopub.status.busy": "2023-02-28T12:01:18.336588Z",
     "iopub.status.idle": "2023-02-28T12:01:18.400257Z",
     "shell.execute_reply": "2023-02-28T12:01:18.398715Z"
    },
    "papermill": {
     "duration": 0.087822,
     "end_time": "2023-02-28T12:01:18.404160",
     "exception": false,
     "start_time": "2023-02-28T12:01:18.316338",
     "status": "completed"
    },
    "tags": []
   },
   "outputs": [
    {
     "name": "stdout",
     "output_type": "stream",
     "text": [
      "Accuracy Score (By Logistic Regression) : 0.8417508417508418\n",
      "Confusion Matrix (By Logistic Regression) : [[521 113]\n",
      " [ 28 229]]\n"
     ]
    }
   ],
   "source": [
    "from sklearn.svm import SVC\n",
    "sc=SVC(kernel='rbf',random_state=0)\n",
    "sc.fit(x,y)\n",
    "y_p3=sc.predict(x)\n",
    "\n",
    "\n",
    "from sklearn.metrics import accuracy_score,confusion_matrix\n",
    "print(\"Accuracy Score (By Logistic Regression) :\",accuracy_score(y_p3,y))\n",
    "print(\"Confusion Matrix (By Logistic Regression) :\",confusion_matrix(y_p3,y))"
   ]
  },
  {
   "cell_type": "markdown",
   "id": "16e1c435",
   "metadata": {
    "papermill": {
     "duration": 0.017455,
     "end_time": "2023-02-28T12:01:18.439930",
     "exception": false,
     "start_time": "2023-02-28T12:01:18.422475",
     "status": "completed"
    },
    "tags": []
   },
   "source": [
    "4.Naive Bayes classification model"
   ]
  },
  {
   "cell_type": "code",
   "execution_count": 29,
   "id": "7f15e0bc",
   "metadata": {
    "execution": {
     "iopub.execute_input": "2023-02-28T12:01:18.478954Z",
     "iopub.status.busy": "2023-02-28T12:01:18.477825Z",
     "iopub.status.idle": "2023-02-28T12:01:18.497268Z",
     "shell.execute_reply": "2023-02-28T12:01:18.495299Z"
    },
    "papermill": {
     "duration": 0.04201,
     "end_time": "2023-02-28T12:01:18.500155",
     "exception": false,
     "start_time": "2023-02-28T12:01:18.458145",
     "status": "completed"
    },
    "tags": []
   },
   "outputs": [
    {
     "name": "stdout",
     "output_type": "stream",
     "text": [
      "Accuracy Score (By Logistic Regression) : 0.7867564534231201\n",
      "Confusion Matrix (By Logistic Regression) : [[453  94]\n",
      " [ 96 248]]\n"
     ]
    }
   ],
   "source": [
    "from sklearn.naive_bayes import GaussianNB\n",
    "nb=GaussianNB()\n",
    "nb.fit(x,y)\n",
    "y_p4=nb.predict(x)\n",
    "\n",
    "\n",
    "from sklearn.metrics import accuracy_score,confusion_matrix\n",
    "print(\"Accuracy Score (By Logistic Regression) :\",accuracy_score(y_p4,y))\n",
    "print(\"Confusion Matrix (By Logistic Regression) :\",confusion_matrix(y_p4,y))"
   ]
  },
  {
   "cell_type": "markdown",
   "id": "75c59342",
   "metadata": {
    "papermill": {
     "duration": 0.017666,
     "end_time": "2023-02-28T12:01:18.536178",
     "exception": false,
     "start_time": "2023-02-28T12:01:18.518512",
     "status": "completed"
    },
    "tags": []
   },
   "source": [
    "5.Decision Tree Classicication model"
   ]
  },
  {
   "cell_type": "code",
   "execution_count": 30,
   "id": "c6ab4bca",
   "metadata": {
    "execution": {
     "iopub.execute_input": "2023-02-28T12:01:18.573865Z",
     "iopub.status.busy": "2023-02-28T12:01:18.572918Z",
     "iopub.status.idle": "2023-02-28T12:01:18.636537Z",
     "shell.execute_reply": "2023-02-28T12:01:18.634782Z"
    },
    "papermill": {
     "duration": 0.085605,
     "end_time": "2023-02-28T12:01:18.639443",
     "exception": false,
     "start_time": "2023-02-28T12:01:18.553838",
     "status": "completed"
    },
    "tags": []
   },
   "outputs": [
    {
     "name": "stdout",
     "output_type": "stream",
     "text": [
      "Accuracy Score (By Logistic Regression) : 0.9820426487093153\n",
      "Confusion Matrix (By Logistic Regression) : [[547  14]\n",
      " [  2 328]]\n"
     ]
    }
   ],
   "source": [
    "from sklearn.tree import DecisionTreeClassifier\n",
    "tc=DecisionTreeClassifier(criterion='entropy')\n",
    "tc.fit(x,y)\n",
    "y_p5=tc.predict(x)\n",
    "\n",
    "\n",
    "from sklearn.metrics import accuracy_score,confusion_matrix\n",
    "print(\"Accuracy Score (By Logistic Regression) :\",accuracy_score(y_p5,y))\n",
    "print(\"Confusion Matrix (By Logistic Regression) :\",confusion_matrix(y_p5,y))"
   ]
  },
  {
   "cell_type": "markdown",
   "id": "b5219dc8",
   "metadata": {
    "papermill": {
     "duration": 0.017989,
     "end_time": "2023-02-28T12:01:18.675960",
     "exception": false,
     "start_time": "2023-02-28T12:01:18.657971",
     "status": "completed"
    },
    "tags": []
   },
   "source": [
    "6.RandomForest Classification model"
   ]
  },
  {
   "cell_type": "code",
   "execution_count": 31,
   "id": "0215f41f",
   "metadata": {
    "execution": {
     "iopub.execute_input": "2023-02-28T12:01:18.715503Z",
     "iopub.status.busy": "2023-02-28T12:01:18.714282Z",
     "iopub.status.idle": "2023-02-28T12:01:18.883961Z",
     "shell.execute_reply": "2023-02-28T12:01:18.882256Z"
    },
    "papermill": {
     "duration": 0.192947,
     "end_time": "2023-02-28T12:01:18.887137",
     "exception": false,
     "start_time": "2023-02-28T12:01:18.694190",
     "status": "completed"
    },
    "tags": []
   },
   "outputs": [
    {
     "name": "stdout",
     "output_type": "stream",
     "text": [
      "Accuracy Score (By Logistic Regression) : 0.9607182940516273\n",
      "Confusion Matrix (By Logistic Regression) : [[541  27]\n",
      " [  8 315]]\n"
     ]
    }
   ],
   "source": [
    "from sklearn.ensemble import RandomForestClassifier\n",
    "rf=RandomForestClassifier(n_estimators=10,criterion='entropy')\n",
    "rf.fit(x,y)\n",
    "y_p6=rf.predict(x)\n",
    "\n",
    "\n",
    "from sklearn.metrics import accuracy_score,confusion_matrix\n",
    "print(\"Accuracy Score (By Logistic Regression) :\",accuracy_score(y_p6,y))\n",
    "print(\"Confusion Matrix (By Logistic Regression) :\",confusion_matrix(y_p6,y))"
   ]
  },
  {
   "cell_type": "markdown",
   "id": "bb5e2f08",
   "metadata": {
    "papermill": {
     "duration": 0.018418,
     "end_time": "2023-02-28T12:01:18.924076",
     "exception": false,
     "start_time": "2023-02-28T12:01:18.905658",
     "status": "completed"
    },
    "tags": []
   },
   "source": [
    "**From above we find that the Decision Tree classifier have the highest accuray**"
   ]
  },
  {
   "cell_type": "markdown",
   "id": "4c231604",
   "metadata": {
    "papermill": {
     "duration": 0.017572,
     "end_time": "2023-02-28T12:01:18.959854",
     "exception": false,
     "start_time": "2023-02-28T12:01:18.942282",
     "status": "completed"
    },
    "tags": []
   },
   "source": [
    "Applying it on the test data after processing "
   ]
  },
  {
   "cell_type": "code",
   "execution_count": 32,
   "id": "3f43b63c",
   "metadata": {
    "execution": {
     "iopub.execute_input": "2023-02-28T12:01:18.999495Z",
     "iopub.status.busy": "2023-02-28T12:01:18.998682Z",
     "iopub.status.idle": "2023-02-28T12:01:19.023240Z",
     "shell.execute_reply": "2023-02-28T12:01:19.022042Z"
    },
    "papermill": {
     "duration": 0.047772,
     "end_time": "2023-02-28T12:01:19.025848",
     "exception": false,
     "start_time": "2023-02-28T12:01:18.978076",
     "status": "completed"
    },
    "tags": []
   },
   "outputs": [
    {
     "data": {
      "text/html": [
       "<div>\n",
       "<style scoped>\n",
       "    .dataframe tbody tr th:only-of-type {\n",
       "        vertical-align: middle;\n",
       "    }\n",
       "\n",
       "    .dataframe tbody tr th {\n",
       "        vertical-align: top;\n",
       "    }\n",
       "\n",
       "    .dataframe thead th {\n",
       "        text-align: right;\n",
       "    }\n",
       "</style>\n",
       "<table border=\"1\" class=\"dataframe\">\n",
       "  <thead>\n",
       "    <tr style=\"text-align: right;\">\n",
       "      <th></th>\n",
       "      <th>PassengerId</th>\n",
       "      <th>Pclass</th>\n",
       "      <th>Name</th>\n",
       "      <th>Sex</th>\n",
       "      <th>Age</th>\n",
       "      <th>SibSp</th>\n",
       "      <th>Parch</th>\n",
       "      <th>Ticket</th>\n",
       "      <th>Fare</th>\n",
       "      <th>Cabin</th>\n",
       "      <th>Embarked</th>\n",
       "    </tr>\n",
       "  </thead>\n",
       "  <tbody>\n",
       "    <tr>\n",
       "      <th>0</th>\n",
       "      <td>892</td>\n",
       "      <td>3</td>\n",
       "      <td>Kelly, Mr. James</td>\n",
       "      <td>male</td>\n",
       "      <td>34.5</td>\n",
       "      <td>0</td>\n",
       "      <td>0</td>\n",
       "      <td>330911</td>\n",
       "      <td>7.8292</td>\n",
       "      <td>NaN</td>\n",
       "      <td>Q</td>\n",
       "    </tr>\n",
       "    <tr>\n",
       "      <th>1</th>\n",
       "      <td>893</td>\n",
       "      <td>3</td>\n",
       "      <td>Wilkes, Mrs. James (Ellen Needs)</td>\n",
       "      <td>female</td>\n",
       "      <td>47.0</td>\n",
       "      <td>1</td>\n",
       "      <td>0</td>\n",
       "      <td>363272</td>\n",
       "      <td>7.0000</td>\n",
       "      <td>NaN</td>\n",
       "      <td>S</td>\n",
       "    </tr>\n",
       "    <tr>\n",
       "      <th>2</th>\n",
       "      <td>894</td>\n",
       "      <td>2</td>\n",
       "      <td>Myles, Mr. Thomas Francis</td>\n",
       "      <td>male</td>\n",
       "      <td>62.0</td>\n",
       "      <td>0</td>\n",
       "      <td>0</td>\n",
       "      <td>240276</td>\n",
       "      <td>9.6875</td>\n",
       "      <td>NaN</td>\n",
       "      <td>Q</td>\n",
       "    </tr>\n",
       "    <tr>\n",
       "      <th>3</th>\n",
       "      <td>895</td>\n",
       "      <td>3</td>\n",
       "      <td>Wirz, Mr. Albert</td>\n",
       "      <td>male</td>\n",
       "      <td>27.0</td>\n",
       "      <td>0</td>\n",
       "      <td>0</td>\n",
       "      <td>315154</td>\n",
       "      <td>8.6625</td>\n",
       "      <td>NaN</td>\n",
       "      <td>S</td>\n",
       "    </tr>\n",
       "    <tr>\n",
       "      <th>4</th>\n",
       "      <td>896</td>\n",
       "      <td>3</td>\n",
       "      <td>Hirvonen, Mrs. Alexander (Helga E Lindqvist)</td>\n",
       "      <td>female</td>\n",
       "      <td>22.0</td>\n",
       "      <td>1</td>\n",
       "      <td>1</td>\n",
       "      <td>3101298</td>\n",
       "      <td>12.2875</td>\n",
       "      <td>NaN</td>\n",
       "      <td>S</td>\n",
       "    </tr>\n",
       "  </tbody>\n",
       "</table>\n",
       "</div>"
      ],
      "text/plain": [
       "   PassengerId  Pclass                                          Name     Sex  \\\n",
       "0          892       3                              Kelly, Mr. James    male   \n",
       "1          893       3              Wilkes, Mrs. James (Ellen Needs)  female   \n",
       "2          894       2                     Myles, Mr. Thomas Francis    male   \n",
       "3          895       3                              Wirz, Mr. Albert    male   \n",
       "4          896       3  Hirvonen, Mrs. Alexander (Helga E Lindqvist)  female   \n",
       "\n",
       "    Age  SibSp  Parch   Ticket     Fare Cabin Embarked  \n",
       "0  34.5      0      0   330911   7.8292   NaN        Q  \n",
       "1  47.0      1      0   363272   7.0000   NaN        S  \n",
       "2  62.0      0      0   240276   9.6875   NaN        Q  \n",
       "3  27.0      0      0   315154   8.6625   NaN        S  \n",
       "4  22.0      1      1  3101298  12.2875   NaN        S  "
      ]
     },
     "execution_count": 32,
     "metadata": {},
     "output_type": "execute_result"
    }
   ],
   "source": [
    "df_test=pd.read_csv('/kaggle/input/titanic/test.csv')\n",
    "df_test.head()"
   ]
  },
  {
   "cell_type": "code",
   "execution_count": 33,
   "id": "55eff7d7",
   "metadata": {
    "execution": {
     "iopub.execute_input": "2023-02-28T12:01:19.064581Z",
     "iopub.status.busy": "2023-02-28T12:01:19.064157Z",
     "iopub.status.idle": "2023-02-28T12:01:19.074580Z",
     "shell.execute_reply": "2023-02-28T12:01:19.073399Z"
    },
    "papermill": {
     "duration": 0.032873,
     "end_time": "2023-02-28T12:01:19.077066",
     "exception": false,
     "start_time": "2023-02-28T12:01:19.044193",
     "status": "completed"
    },
    "tags": []
   },
   "outputs": [
    {
     "data": {
      "text/plain": [
       "PassengerId      0\n",
       "Pclass           0\n",
       "Name             0\n",
       "Sex              0\n",
       "Age             86\n",
       "SibSp            0\n",
       "Parch            0\n",
       "Ticket           0\n",
       "Fare             1\n",
       "Cabin          327\n",
       "Embarked         0\n",
       "dtype: int64"
      ]
     },
     "execution_count": 33,
     "metadata": {},
     "output_type": "execute_result"
    }
   ],
   "source": [
    "df_test.isna().sum()"
   ]
  },
  {
   "cell_type": "code",
   "execution_count": 34,
   "id": "29d0cd3e",
   "metadata": {
    "execution": {
     "iopub.execute_input": "2023-02-28T12:01:19.117851Z",
     "iopub.status.busy": "2023-02-28T12:01:19.116616Z",
     "iopub.status.idle": "2023-02-28T12:01:19.133215Z",
     "shell.execute_reply": "2023-02-28T12:01:19.131848Z"
    },
    "papermill": {
     "duration": 0.040129,
     "end_time": "2023-02-28T12:01:19.135804",
     "exception": false,
     "start_time": "2023-02-28T12:01:19.095675",
     "status": "completed"
    },
    "tags": []
   },
   "outputs": [
    {
     "data": {
      "text/html": [
       "<div>\n",
       "<style scoped>\n",
       "    .dataframe tbody tr th:only-of-type {\n",
       "        vertical-align: middle;\n",
       "    }\n",
       "\n",
       "    .dataframe tbody tr th {\n",
       "        vertical-align: top;\n",
       "    }\n",
       "\n",
       "    .dataframe thead th {\n",
       "        text-align: right;\n",
       "    }\n",
       "</style>\n",
       "<table border=\"1\" class=\"dataframe\">\n",
       "  <thead>\n",
       "    <tr style=\"text-align: right;\">\n",
       "      <th></th>\n",
       "      <th>Pclass</th>\n",
       "      <th>Sex</th>\n",
       "      <th>Age</th>\n",
       "      <th>SibSp</th>\n",
       "      <th>Parch</th>\n",
       "      <th>Fare</th>\n",
       "      <th>Embarked</th>\n",
       "    </tr>\n",
       "  </thead>\n",
       "  <tbody>\n",
       "    <tr>\n",
       "      <th>0</th>\n",
       "      <td>3</td>\n",
       "      <td>male</td>\n",
       "      <td>34.5</td>\n",
       "      <td>0</td>\n",
       "      <td>0</td>\n",
       "      <td>7.8292</td>\n",
       "      <td>Q</td>\n",
       "    </tr>\n",
       "    <tr>\n",
       "      <th>1</th>\n",
       "      <td>3</td>\n",
       "      <td>female</td>\n",
       "      <td>47.0</td>\n",
       "      <td>1</td>\n",
       "      <td>0</td>\n",
       "      <td>7.0000</td>\n",
       "      <td>S</td>\n",
       "    </tr>\n",
       "    <tr>\n",
       "      <th>2</th>\n",
       "      <td>2</td>\n",
       "      <td>male</td>\n",
       "      <td>62.0</td>\n",
       "      <td>0</td>\n",
       "      <td>0</td>\n",
       "      <td>9.6875</td>\n",
       "      <td>Q</td>\n",
       "    </tr>\n",
       "    <tr>\n",
       "      <th>3</th>\n",
       "      <td>3</td>\n",
       "      <td>male</td>\n",
       "      <td>27.0</td>\n",
       "      <td>0</td>\n",
       "      <td>0</td>\n",
       "      <td>8.6625</td>\n",
       "      <td>S</td>\n",
       "    </tr>\n",
       "    <tr>\n",
       "      <th>4</th>\n",
       "      <td>3</td>\n",
       "      <td>female</td>\n",
       "      <td>22.0</td>\n",
       "      <td>1</td>\n",
       "      <td>1</td>\n",
       "      <td>12.2875</td>\n",
       "      <td>S</td>\n",
       "    </tr>\n",
       "  </tbody>\n",
       "</table>\n",
       "</div>"
      ],
      "text/plain": [
       "   Pclass     Sex   Age  SibSp  Parch     Fare Embarked\n",
       "0       3    male  34.5      0      0   7.8292        Q\n",
       "1       3  female  47.0      1      0   7.0000        S\n",
       "2       2    male  62.0      0      0   9.6875        Q\n",
       "3       3    male  27.0      0      0   8.6625        S\n",
       "4       3  female  22.0      1      1  12.2875        S"
      ]
     },
     "execution_count": 34,
     "metadata": {},
     "output_type": "execute_result"
    }
   ],
   "source": [
    "Pass=df_test.iloc[:,0]\n",
    "df_test.drop(['PassengerId','Ticket','Cabin','Name'],axis=1,inplace=True)\n",
    "df_test.head()"
   ]
  },
  {
   "cell_type": "code",
   "execution_count": 35,
   "id": "2caf272b",
   "metadata": {
    "execution": {
     "iopub.execute_input": "2023-02-28T12:01:19.176102Z",
     "iopub.status.busy": "2023-02-28T12:01:19.175241Z",
     "iopub.status.idle": "2023-02-28T12:01:19.183356Z",
     "shell.execute_reply": "2023-02-28T12:01:19.182393Z"
    },
    "papermill": {
     "duration": 0.030838,
     "end_time": "2023-02-28T12:01:19.185738",
     "exception": false,
     "start_time": "2023-02-28T12:01:19.154900",
     "status": "completed"
    },
    "tags": []
   },
   "outputs": [
    {
     "data": {
      "text/plain": [
       "0    892\n",
       "1    893\n",
       "2    894\n",
       "3    895\n",
       "4    896\n",
       "Name: PassengerId, dtype: int64"
      ]
     },
     "execution_count": 35,
     "metadata": {},
     "output_type": "execute_result"
    }
   ],
   "source": [
    "Pass.head()"
   ]
  },
  {
   "cell_type": "code",
   "execution_count": 36,
   "id": "043720cc",
   "metadata": {
    "execution": {
     "iopub.execute_input": "2023-02-28T12:01:19.225878Z",
     "iopub.status.busy": "2023-02-28T12:01:19.224973Z",
     "iopub.status.idle": "2023-02-28T12:01:19.237624Z",
     "shell.execute_reply": "2023-02-28T12:01:19.236419Z"
    },
    "papermill": {
     "duration": 0.03581,
     "end_time": "2023-02-28T12:01:19.240221",
     "exception": false,
     "start_time": "2023-02-28T12:01:19.204411",
     "status": "completed"
    },
    "tags": []
   },
   "outputs": [
    {
     "data": {
      "text/plain": [
       "Pclass      0\n",
       "Sex         0\n",
       "Age         0\n",
       "SibSp       0\n",
       "Parch       0\n",
       "Fare        0\n",
       "Embarked    0\n",
       "dtype: int64"
      ]
     },
     "execution_count": 36,
     "metadata": {},
     "output_type": "execute_result"
    }
   ],
   "source": [
    "df_test.Age=df_test.Age.fillna(df_test.Age.mean())\n",
    "df_test.Fare=df_test.Fare.fillna(df_test.Fare.mean())\n",
    "df_test.isna().sum()"
   ]
  },
  {
   "cell_type": "code",
   "execution_count": 37,
   "id": "a487e25a",
   "metadata": {
    "execution": {
     "iopub.execute_input": "2023-02-28T12:01:19.281518Z",
     "iopub.status.busy": "2023-02-28T12:01:19.280175Z",
     "iopub.status.idle": "2023-02-28T12:01:19.295684Z",
     "shell.execute_reply": "2023-02-28T12:01:19.294406Z"
    },
    "papermill": {
     "duration": 0.039154,
     "end_time": "2023-02-28T12:01:19.298522",
     "exception": false,
     "start_time": "2023-02-28T12:01:19.259368",
     "status": "completed"
    },
    "tags": []
   },
   "outputs": [
    {
     "data": {
      "text/html": [
       "<div>\n",
       "<style scoped>\n",
       "    .dataframe tbody tr th:only-of-type {\n",
       "        vertical-align: middle;\n",
       "    }\n",
       "\n",
       "    .dataframe tbody tr th {\n",
       "        vertical-align: top;\n",
       "    }\n",
       "\n",
       "    .dataframe thead th {\n",
       "        text-align: right;\n",
       "    }\n",
       "</style>\n",
       "<table border=\"1\" class=\"dataframe\">\n",
       "  <thead>\n",
       "    <tr style=\"text-align: right;\">\n",
       "      <th></th>\n",
       "      <th>Pclass</th>\n",
       "      <th>Sex</th>\n",
       "      <th>Age</th>\n",
       "      <th>SibSp</th>\n",
       "      <th>Parch</th>\n",
       "      <th>Fare</th>\n",
       "      <th>Embarked</th>\n",
       "    </tr>\n",
       "  </thead>\n",
       "  <tbody>\n",
       "    <tr>\n",
       "      <th>0</th>\n",
       "      <td>3</td>\n",
       "      <td>1</td>\n",
       "      <td>34.5</td>\n",
       "      <td>0</td>\n",
       "      <td>0</td>\n",
       "      <td>7.8292</td>\n",
       "      <td>Q</td>\n",
       "    </tr>\n",
       "    <tr>\n",
       "      <th>1</th>\n",
       "      <td>3</td>\n",
       "      <td>0</td>\n",
       "      <td>47.0</td>\n",
       "      <td>1</td>\n",
       "      <td>0</td>\n",
       "      <td>7.0000</td>\n",
       "      <td>S</td>\n",
       "    </tr>\n",
       "    <tr>\n",
       "      <th>2</th>\n",
       "      <td>2</td>\n",
       "      <td>1</td>\n",
       "      <td>62.0</td>\n",
       "      <td>0</td>\n",
       "      <td>0</td>\n",
       "      <td>9.6875</td>\n",
       "      <td>Q</td>\n",
       "    </tr>\n",
       "    <tr>\n",
       "      <th>3</th>\n",
       "      <td>3</td>\n",
       "      <td>1</td>\n",
       "      <td>27.0</td>\n",
       "      <td>0</td>\n",
       "      <td>0</td>\n",
       "      <td>8.6625</td>\n",
       "      <td>S</td>\n",
       "    </tr>\n",
       "    <tr>\n",
       "      <th>4</th>\n",
       "      <td>3</td>\n",
       "      <td>0</td>\n",
       "      <td>22.0</td>\n",
       "      <td>1</td>\n",
       "      <td>1</td>\n",
       "      <td>12.2875</td>\n",
       "      <td>S</td>\n",
       "    </tr>\n",
       "  </tbody>\n",
       "</table>\n",
       "</div>"
      ],
      "text/plain": [
       "   Pclass  Sex   Age  SibSp  Parch     Fare Embarked\n",
       "0       3    1  34.5      0      0   7.8292        Q\n",
       "1       3    0  47.0      1      0   7.0000        S\n",
       "2       2    1  62.0      0      0   9.6875        Q\n",
       "3       3    1  27.0      0      0   8.6625        S\n",
       "4       3    0  22.0      1      1  12.2875        S"
      ]
     },
     "execution_count": 37,
     "metadata": {},
     "output_type": "execute_result"
    }
   ],
   "source": [
    "le3=LabelEncoder()\n",
    "df_test['Sex']=le1.fit_transform(df_test['Sex'])\n",
    "df_test.head()"
   ]
  },
  {
   "cell_type": "code",
   "execution_count": 38,
   "id": "961ef9e6",
   "metadata": {
    "execution": {
     "iopub.execute_input": "2023-02-28T12:01:19.340300Z",
     "iopub.status.busy": "2023-02-28T12:01:19.339349Z",
     "iopub.status.idle": "2023-02-28T12:01:19.352100Z",
     "shell.execute_reply": "2023-02-28T12:01:19.350801Z"
    },
    "papermill": {
     "duration": 0.03661,
     "end_time": "2023-02-28T12:01:19.354963",
     "exception": false,
     "start_time": "2023-02-28T12:01:19.318353",
     "status": "completed"
    },
    "tags": []
   },
   "outputs": [
    {
     "data": {
      "text/plain": [
       "array([[ 0.    ,  1.    ,  0.    , ...,  0.    ,  0.    ,  7.8292],\n",
       "       [ 0.    ,  0.    ,  1.    , ...,  1.    ,  0.    ,  7.    ],\n",
       "       [ 0.    ,  1.    ,  0.    , ...,  0.    ,  0.    ,  9.6875],\n",
       "       ...,\n",
       "       [ 0.    ,  0.    ,  1.    , ...,  0.    ,  0.    ,  7.25  ],\n",
       "       [ 0.    ,  0.    ,  1.    , ...,  0.    ,  0.    ,  8.05  ],\n",
       "       [ 1.    ,  0.    ,  0.    , ...,  1.    ,  1.    , 22.3583]])"
      ]
     },
     "execution_count": 38,
     "metadata": {},
     "output_type": "execute_result"
    }
   ],
   "source": [
    "ct1=ColumnTransformer(transformers=[('encoder',OneHotEncoder(),[-1])],remainder='passthrough')\n",
    "df_test=np.array(ct1.fit_transform(df_test))\n",
    "df_test"
   ]
  },
  {
   "cell_type": "code",
   "execution_count": 39,
   "id": "bf222bdf",
   "metadata": {
    "execution": {
     "iopub.execute_input": "2023-02-28T12:01:19.405456Z",
     "iopub.status.busy": "2023-02-28T12:01:19.404618Z",
     "iopub.status.idle": "2023-02-28T12:01:19.411436Z",
     "shell.execute_reply": "2023-02-28T12:01:19.410441Z"
    },
    "papermill": {
     "duration": 0.029977,
     "end_time": "2023-02-28T12:01:19.414148",
     "exception": false,
     "start_time": "2023-02-28T12:01:19.384171",
     "status": "completed"
    },
    "tags": []
   },
   "outputs": [],
   "source": [
    "sc1=StandardScaler()\n",
    "x_test=sc1.fit_transform(df_test)"
   ]
  },
  {
   "cell_type": "code",
   "execution_count": 40,
   "id": "7eb66023",
   "metadata": {
    "execution": {
     "iopub.execute_input": "2023-02-28T12:01:19.454868Z",
     "iopub.status.busy": "2023-02-28T12:01:19.454007Z",
     "iopub.status.idle": "2023-02-28T12:01:19.460643Z",
     "shell.execute_reply": "2023-02-28T12:01:19.459750Z"
    },
    "papermill": {
     "duration": 0.029896,
     "end_time": "2023-02-28T12:01:19.463244",
     "exception": false,
     "start_time": "2023-02-28T12:01:19.433348",
     "status": "completed"
    },
    "tags": []
   },
   "outputs": [],
   "source": [
    "y_p5_test=tc.predict(x_test)\n",
    "prediction=pd.DataFrame(np.c_[Pass,y_p5_test],columns=[\"PassengerId\",\"Survived\"])"
   ]
  },
  {
   "cell_type": "code",
   "execution_count": 41,
   "id": "a92bb965",
   "metadata": {
    "execution": {
     "iopub.execute_input": "2023-02-28T12:01:19.503892Z",
     "iopub.status.busy": "2023-02-28T12:01:19.502993Z",
     "iopub.status.idle": "2023-02-28T12:01:19.518334Z",
     "shell.execute_reply": "2023-02-28T12:01:19.516524Z"
    },
    "papermill": {
     "duration": 0.040037,
     "end_time": "2023-02-28T12:01:19.522201",
     "exception": false,
     "start_time": "2023-02-28T12:01:19.482164",
     "status": "completed"
    },
    "tags": []
   },
   "outputs": [
    {
     "data": {
      "text/html": [
       "<div>\n",
       "<style scoped>\n",
       "    .dataframe tbody tr th:only-of-type {\n",
       "        vertical-align: middle;\n",
       "    }\n",
       "\n",
       "    .dataframe tbody tr th {\n",
       "        vertical-align: top;\n",
       "    }\n",
       "\n",
       "    .dataframe thead th {\n",
       "        text-align: right;\n",
       "    }\n",
       "</style>\n",
       "<table border=\"1\" class=\"dataframe\">\n",
       "  <thead>\n",
       "    <tr style=\"text-align: right;\">\n",
       "      <th></th>\n",
       "      <th>PassengerId</th>\n",
       "      <th>Survived</th>\n",
       "    </tr>\n",
       "  </thead>\n",
       "  <tbody>\n",
       "    <tr>\n",
       "      <th>0</th>\n",
       "      <td>892.0</td>\n",
       "      <td>0.0</td>\n",
       "    </tr>\n",
       "    <tr>\n",
       "      <th>1</th>\n",
       "      <td>893.0</td>\n",
       "      <td>0.0</td>\n",
       "    </tr>\n",
       "    <tr>\n",
       "      <th>2</th>\n",
       "      <td>894.0</td>\n",
       "      <td>1.0</td>\n",
       "    </tr>\n",
       "    <tr>\n",
       "      <th>3</th>\n",
       "      <td>895.0</td>\n",
       "      <td>0.0</td>\n",
       "    </tr>\n",
       "    <tr>\n",
       "      <th>4</th>\n",
       "      <td>896.0</td>\n",
       "      <td>1.0</td>\n",
       "    </tr>\n",
       "    <tr>\n",
       "      <th>...</th>\n",
       "      <td>...</td>\n",
       "      <td>...</td>\n",
       "    </tr>\n",
       "    <tr>\n",
       "      <th>413</th>\n",
       "      <td>1305.0</td>\n",
       "      <td>0.0</td>\n",
       "    </tr>\n",
       "    <tr>\n",
       "      <th>414</th>\n",
       "      <td>1306.0</td>\n",
       "      <td>1.0</td>\n",
       "    </tr>\n",
       "    <tr>\n",
       "      <th>415</th>\n",
       "      <td>1307.0</td>\n",
       "      <td>0.0</td>\n",
       "    </tr>\n",
       "    <tr>\n",
       "      <th>416</th>\n",
       "      <td>1308.0</td>\n",
       "      <td>0.0</td>\n",
       "    </tr>\n",
       "    <tr>\n",
       "      <th>417</th>\n",
       "      <td>1309.0</td>\n",
       "      <td>0.0</td>\n",
       "    </tr>\n",
       "  </tbody>\n",
       "</table>\n",
       "<p>418 rows × 2 columns</p>\n",
       "</div>"
      ],
      "text/plain": [
       "     PassengerId  Survived\n",
       "0          892.0       0.0\n",
       "1          893.0       0.0\n",
       "2          894.0       1.0\n",
       "3          895.0       0.0\n",
       "4          896.0       1.0\n",
       "..           ...       ...\n",
       "413       1305.0       0.0\n",
       "414       1306.0       1.0\n",
       "415       1307.0       0.0\n",
       "416       1308.0       0.0\n",
       "417       1309.0       0.0\n",
       "\n",
       "[418 rows x 2 columns]"
      ]
     },
     "execution_count": 41,
     "metadata": {},
     "output_type": "execute_result"
    }
   ],
   "source": [
    "prediction"
   ]
  }
 ],
 "metadata": {
  "kernelspec": {
   "display_name": "Python 3",
   "language": "python",
   "name": "python3"
  },
  "language_info": {
   "codemirror_mode": {
    "name": "ipython",
    "version": 3
   },
   "file_extension": ".py",
   "mimetype": "text/x-python",
   "name": "python",
   "nbconvert_exporter": "python",
   "pygments_lexer": "ipython3",
   "version": "3.7.12"
  },
  "papermill": {
   "default_parameters": {},
   "duration": 18.267943,
   "end_time": "2023-02-28T12:01:20.367632",
   "environment_variables": {},
   "exception": null,
   "input_path": "__notebook__.ipynb",
   "output_path": "__notebook__.ipynb",
   "parameters": {},
   "start_time": "2023-02-28T12:01:02.099689",
   "version": "2.4.0"
  }
 },
 "nbformat": 4,
 "nbformat_minor": 5
}
